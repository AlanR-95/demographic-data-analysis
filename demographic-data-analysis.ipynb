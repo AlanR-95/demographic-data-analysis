{
 "cells": [
  {
   "cell_type": "markdown",
   "metadata": {},
   "source": [
    "# ANÁLISIS EXPLORATORIO DE DATOS CON PYTHON\n",
    "\n",
    "Breve análisis utilizando pandas y seaborn."
   ]
  },
  {
   "cell_type": "code",
   "execution_count": 8,
   "metadata": {},
   "outputs": [],
   "source": [
    "#Imports\n",
    "\n",
    "import pandas as pd\n",
    "import seaborn as sns\n",
    "import matplotlib.pyplot as plt\n",
    "\n",
    "%matplotlib inline"
   ]
  },
  {
   "cell_type": "code",
   "execution_count": 2,
   "metadata": {},
   "outputs": [],
   "source": [
    "df = pd.read_csv('adult.data.csv')"
   ]
  },
  {
   "cell_type": "markdown",
   "metadata": {},
   "source": [
    "### Chequeando datos del dataset "
   ]
  },
  {
   "cell_type": "code",
   "execution_count": 4,
   "metadata": {},
   "outputs": [
    {
     "data": {
      "text/html": [
       "<div>\n",
       "<style scoped>\n",
       "    .dataframe tbody tr th:only-of-type {\n",
       "        vertical-align: middle;\n",
       "    }\n",
       "\n",
       "    .dataframe tbody tr th {\n",
       "        vertical-align: top;\n",
       "    }\n",
       "\n",
       "    .dataframe thead th {\n",
       "        text-align: right;\n",
       "    }\n",
       "</style>\n",
       "<table border=\"1\" class=\"dataframe\">\n",
       "  <thead>\n",
       "    <tr style=\"text-align: right;\">\n",
       "      <th></th>\n",
       "      <th>age</th>\n",
       "      <th>workclass</th>\n",
       "      <th>fnlwgt</th>\n",
       "      <th>education</th>\n",
       "      <th>education-num</th>\n",
       "      <th>marital-status</th>\n",
       "      <th>occupation</th>\n",
       "      <th>relationship</th>\n",
       "      <th>race</th>\n",
       "      <th>sex</th>\n",
       "      <th>capital-gain</th>\n",
       "      <th>capital-loss</th>\n",
       "      <th>hours-per-week</th>\n",
       "      <th>native-country</th>\n",
       "      <th>salary</th>\n",
       "    </tr>\n",
       "  </thead>\n",
       "  <tbody>\n",
       "    <tr>\n",
       "      <th>0</th>\n",
       "      <td>39</td>\n",
       "      <td>State-gov</td>\n",
       "      <td>77516</td>\n",
       "      <td>Bachelors</td>\n",
       "      <td>13</td>\n",
       "      <td>Never-married</td>\n",
       "      <td>Adm-clerical</td>\n",
       "      <td>Not-in-family</td>\n",
       "      <td>White</td>\n",
       "      <td>Male</td>\n",
       "      <td>2174</td>\n",
       "      <td>0</td>\n",
       "      <td>40</td>\n",
       "      <td>United-States</td>\n",
       "      <td>&lt;=50K</td>\n",
       "    </tr>\n",
       "    <tr>\n",
       "      <th>1</th>\n",
       "      <td>50</td>\n",
       "      <td>Self-emp-not-inc</td>\n",
       "      <td>83311</td>\n",
       "      <td>Bachelors</td>\n",
       "      <td>13</td>\n",
       "      <td>Married-civ-spouse</td>\n",
       "      <td>Exec-managerial</td>\n",
       "      <td>Husband</td>\n",
       "      <td>White</td>\n",
       "      <td>Male</td>\n",
       "      <td>0</td>\n",
       "      <td>0</td>\n",
       "      <td>13</td>\n",
       "      <td>United-States</td>\n",
       "      <td>&lt;=50K</td>\n",
       "    </tr>\n",
       "    <tr>\n",
       "      <th>2</th>\n",
       "      <td>38</td>\n",
       "      <td>Private</td>\n",
       "      <td>215646</td>\n",
       "      <td>HS-grad</td>\n",
       "      <td>9</td>\n",
       "      <td>Divorced</td>\n",
       "      <td>Handlers-cleaners</td>\n",
       "      <td>Not-in-family</td>\n",
       "      <td>White</td>\n",
       "      <td>Male</td>\n",
       "      <td>0</td>\n",
       "      <td>0</td>\n",
       "      <td>40</td>\n",
       "      <td>United-States</td>\n",
       "      <td>&lt;=50K</td>\n",
       "    </tr>\n",
       "    <tr>\n",
       "      <th>3</th>\n",
       "      <td>53</td>\n",
       "      <td>Private</td>\n",
       "      <td>234721</td>\n",
       "      <td>11th</td>\n",
       "      <td>7</td>\n",
       "      <td>Married-civ-spouse</td>\n",
       "      <td>Handlers-cleaners</td>\n",
       "      <td>Husband</td>\n",
       "      <td>Black</td>\n",
       "      <td>Male</td>\n",
       "      <td>0</td>\n",
       "      <td>0</td>\n",
       "      <td>40</td>\n",
       "      <td>United-States</td>\n",
       "      <td>&lt;=50K</td>\n",
       "    </tr>\n",
       "    <tr>\n",
       "      <th>4</th>\n",
       "      <td>28</td>\n",
       "      <td>Private</td>\n",
       "      <td>338409</td>\n",
       "      <td>Bachelors</td>\n",
       "      <td>13</td>\n",
       "      <td>Married-civ-spouse</td>\n",
       "      <td>Prof-specialty</td>\n",
       "      <td>Wife</td>\n",
       "      <td>Black</td>\n",
       "      <td>Female</td>\n",
       "      <td>0</td>\n",
       "      <td>0</td>\n",
       "      <td>40</td>\n",
       "      <td>Cuba</td>\n",
       "      <td>&lt;=50K</td>\n",
       "    </tr>\n",
       "  </tbody>\n",
       "</table>\n",
       "</div>"
      ],
      "text/plain": [
       "   age         workclass  fnlwgt  education  education-num  \\\n",
       "0   39         State-gov   77516  Bachelors             13   \n",
       "1   50  Self-emp-not-inc   83311  Bachelors             13   \n",
       "2   38           Private  215646    HS-grad              9   \n",
       "3   53           Private  234721       11th              7   \n",
       "4   28           Private  338409  Bachelors             13   \n",
       "\n",
       "       marital-status         occupation   relationship   race     sex  \\\n",
       "0       Never-married       Adm-clerical  Not-in-family  White    Male   \n",
       "1  Married-civ-spouse    Exec-managerial        Husband  White    Male   \n",
       "2            Divorced  Handlers-cleaners  Not-in-family  White    Male   \n",
       "3  Married-civ-spouse  Handlers-cleaners        Husband  Black    Male   \n",
       "4  Married-civ-spouse     Prof-specialty           Wife  Black  Female   \n",
       "\n",
       "   capital-gain  capital-loss  hours-per-week native-country salary  \n",
       "0          2174             0              40  United-States  <=50K  \n",
       "1             0             0              13  United-States  <=50K  \n",
       "2             0             0              40  United-States  <=50K  \n",
       "3             0             0              40  United-States  <=50K  \n",
       "4             0             0              40           Cuba  <=50K  "
      ]
     },
     "execution_count": 4,
     "metadata": {},
     "output_type": "execute_result"
    }
   ],
   "source": [
    "df.head(5)"
   ]
  },
  {
   "cell_type": "code",
   "execution_count": 5,
   "metadata": {},
   "outputs": [
    {
     "name": "stdout",
     "output_type": "stream",
     "text": [
      "<class 'pandas.core.frame.DataFrame'>\n",
      "RangeIndex: 32561 entries, 0 to 32560\n",
      "Data columns (total 15 columns):\n",
      " #   Column          Non-Null Count  Dtype \n",
      "---  ------          --------------  ----- \n",
      " 0   age             32561 non-null  int64 \n",
      " 1   workclass       32561 non-null  object\n",
      " 2   fnlwgt          32561 non-null  int64 \n",
      " 3   education       32561 non-null  object\n",
      " 4   education-num   32561 non-null  int64 \n",
      " 5   marital-status  32561 non-null  object\n",
      " 6   occupation      32561 non-null  object\n",
      " 7   relationship    32561 non-null  object\n",
      " 8   race            32561 non-null  object\n",
      " 9   sex             32561 non-null  object\n",
      " 10  capital-gain    32561 non-null  int64 \n",
      " 11  capital-loss    32561 non-null  int64 \n",
      " 12  hours-per-week  32561 non-null  int64 \n",
      " 13  native-country  32561 non-null  object\n",
      " 14  salary          32561 non-null  object\n",
      "dtypes: int64(6), object(9)\n",
      "memory usage: 3.7+ MB\n"
     ]
    }
   ],
   "source": [
    "df.info()"
   ]
  },
  {
   "cell_type": "markdown",
   "metadata": {},
   "source": [
    "### Análisis de los datos"
   ]
  },
  {
   "cell_type": "code",
   "execution_count": 7,
   "metadata": {},
   "outputs": [
    {
     "data": {
      "text/plain": [
       "White                 27816\n",
       "Black                  3124\n",
       "Asian-Pac-Islander     1039\n",
       "Amer-Indian-Eskimo      311\n",
       "Other                   271\n",
       "Name: race, dtype: int64"
      ]
     },
     "execution_count": 7,
     "metadata": {},
     "output_type": "execute_result"
    }
   ],
   "source": [
    "# ¿Cuantas personas de cada raza se encuentran representados en este dataset?\n",
    "\n",
    "race_count = df['race'].value_counts()\n",
    "\n",
    "race_count"
   ]
  },
  {
   "cell_type": "code",
   "execution_count": 9,
   "metadata": {},
   "outputs": [
    {
     "data": {
      "text/plain": [
       "<matplotlib.axes._subplots.AxesSubplot at 0x24d5e1692c8>"
      ]
     },
     "execution_count": 9,
     "metadata": {},
     "output_type": "execute_result"
    },
    {
     "data": {
      "image/png": "[encoded data removed]",
      "text/plain": [
       "<Figure size 864x288 with 1 Axes>"
      ]
     },
     "metadata": {
      "needs_background": "light"
     },
     "output_type": "display_data"
    }
   ],
   "source": [
    "plt.figure(figsize=(12,4))\n",
    "sns.countplot(data=df, x=\"race\")"
   ]
  },
  {
   "cell_type": "code",
   "execution_count": 10,
   "metadata": {},
   "outputs": [
    {
     "data": {
      "text/plain": [
       "39.4"
      ]
     },
     "execution_count": 10,
     "metadata": {},
     "output_type": "execute_result"
    }
   ],
   "source": [
    "# ¿Cuál es la edad promedio de los hombres?\n",
    "\n",
    "average_age_men = round(df[df['sex'] == 'Male']['age'].values.mean(), 1)\n",
    "average_age_men"
   ]
  },
  {
   "cell_type": "code",
   "execution_count": 13,
   "metadata": {},
   "outputs": [
    {
     "data": {
      "text/plain": [
       "16.4"
      ]
     },
     "execution_count": 13,
     "metadata": {},
     "output_type": "execute_result"
    }
   ],
   "source": [
    "# ¿Cuál es el porcentaje de personas que tienen un título de grado (Bachelors)?\n",
    "\n",
    "percentage_bachelors = round(100 * len(df[df['education'] == 'Bachelors'])/len(df.index), 1)\n",
    "percentage_bachelors #16.4%"
   ]
  },
  {
   "cell_type": "code",
   "execution_count": 16,
   "metadata": {},
   "outputs": [
    {
     "name": "stdout",
     "output_type": "stream",
     "text": [
      "Porcentaje de personas con educación avanzada que reciben un sueldo mayor a 50k:  46.5 %\n",
      "Porcentaje de personas sin educación avanzada que reciben un sueldo mayor a 50k:  17.4 %\n"
     ]
    }
   ],
   "source": [
    "# ¿Qué porcentaje de personas con educación de grado o postgrado reciben un salario mayor a 50000 dólares anuales?\n",
    "\n",
    "# Con título de grado o postgrado\n",
    "higher_education = df[df['education'].isin(['Bachelors', 'Masters', 'Doctorate'])]\n",
    "\n",
    "# Sin título de grado\n",
    "lower_education = df[~df['education'].isin(['Bachelors', 'Masters', 'Doctorate'])]\n",
    "\n",
    "# Calculando los porcentajes\n",
    "higher_education_salary = round(100 * len(higher_education[higher_education['salary'] == '>50K']) / len(higher_education), 1)\n",
    "lower_education_salary =  round(100 * len(lower_education[lower_education['salary'] == '>50K']) / len(lower_education), 1)\n",
    "\n",
    "\n",
    "\n",
    "print (\"Porcentaje de personas con educación avanzada que reciben un sueldo mayor a 50k: \", higher_education_salary, \"%\")\n",
    "print (\"Porcentaje de personas sin educación avanzada que reciben un sueldo mayor a 50k: \", lower_education_salary, \"%\")\n"
   ]
  },
  {
   "cell_type": "code",
   "execution_count": 18,
   "metadata": {},
   "outputs": [
    {
     "name": "stdout",
     "output_type": "stream",
     "text": [
      "1 horas\n"
     ]
    }
   ],
   "source": [
    "# ¿Cuál es la menor cantidad de horas que una persona trabajo por semana?\n",
    "\n",
    "min_work_hours = df['hours-per-week'].min()\n",
    "print(min_work_hours, \"horas\")"
   ]
  },
  {
   "cell_type": "code",
   "execution_count": 22,
   "metadata": {},
   "outputs": [
    {
     "name": "stdout",
     "output_type": "stream",
     "text": [
      "10.0 %\n"
     ]
    }
   ],
   "source": [
    "# ¿Cual es el porcentaje de personas que trabajan la cantidad mínima de horas, con un salario >50k?\n",
    "\n",
    "num_min_workers = df[df['hours-per-week'] == min_work_hours]\n",
    "salary_percentage = round(100 * len(num_min_workers[num_min_workers['salary'] == '>50K']) / len(num_min_workers), 1)\n",
    "\n",
    "print(salary_percentage, \"%\")"
   ]
  },
  {
   "cell_type": "code",
   "execution_count": 32,
   "metadata": {},
   "outputs": [
    {
     "data": {
      "text/plain": [
       "?                             0.250429\n",
       "Cambodia                      0.368421\n",
       "Canada                        0.322314\n",
       "China                         0.266667\n",
       "Columbia                      0.033898\n",
       "Cuba                          0.263158\n",
       "Dominican-Republic            0.028571\n",
       "Ecuador                       0.142857\n",
       "El-Salvador                   0.084906\n",
       "England                       0.333333\n",
       "France                        0.413793\n",
       "Germany                       0.321168\n",
       "Greece                        0.275862\n",
       "Guatemala                     0.046875\n",
       "Haiti                         0.090909\n",
       "Holand-Netherlands                 NaN\n",
       "Honduras                      0.076923\n",
       "Hong                          0.300000\n",
       "Hungary                       0.230769\n",
       "India                         0.400000\n",
       "Iran                          0.418605\n",
       "Ireland                       0.208333\n",
       "Italy                         0.342466\n",
       "Jamaica                       0.123457\n",
       "Japan                         0.387097\n",
       "Laos                          0.111111\n",
       "Mexico                        0.051322\n",
       "Nicaragua                     0.058824\n",
       "Outlying-US(Guam-USVI-etc)         NaN\n",
       "Peru                          0.064516\n",
       "Philippines                   0.308081\n",
       "Poland                        0.200000\n",
       "Portugal                      0.108108\n",
       "Puerto-Rico                   0.105263\n",
       "Scotland                      0.250000\n",
       "South                         0.200000\n",
       "Taiwan                        0.392157\n",
       "Thailand                      0.166667\n",
       "Trinadad&Tobago               0.105263\n",
       "United-States                 0.245835\n",
       "Vietnam                       0.074627\n",
       "Yugoslavia                    0.375000\n",
       "Name: native-country, dtype: float64"
      ]
     },
     "execution_count": 32,
     "metadata": {},
     "output_type": "execute_result"
    }
   ],
   "source": [
    "# ¿Que país tiene el más alto porcentaje de personas con salarios >100k?\n",
    "\n",
    "# df[df['salary'] == '>100K'] condición \n",
    "\n",
    "people_over50k = df[df['salary'] == '>50K']['native-country'].value_counts()\n",
    "people_total = df['native-country'].value_counts()\n",
    "\n",
    "perc_over50k = people_over50k/people_total\n",
    "\n",
    "perc_over50k"
   ]
  },
  {
   "cell_type": "code",
   "execution_count": 36,
   "metadata": {},
   "outputs": [
    {
     "name": "stdout",
     "output_type": "stream",
     "text": [
      "País:  Iran\n",
      "Porcentaje:  41.9 %\n"
     ]
    }
   ],
   "source": [
    "# Encontrando el país con mayor ratio (perc_over100k)\n",
    "\n",
    "highest_earning_country = perc_over50k[perc_over50k.values == perc_over50k.max()].index[0]\n",
    "highest_earning_country_percentage = round(100 * perc_over50k.max(), 1)\n",
    "\n",
    "print(\"País: \", highest_earning_country)\n",
    "print(\"Porcentaje: \", highest_earning_country_percentage, \"%\")"
   ]
  },
  {
   "cell_type": "code",
   "execution_count": 38,
   "metadata": {},
   "outputs": [
    {
     "data": {
      "text/plain": [
       "Exec-managerial    13\n",
       "Other-service       3\n",
       "Prof-specialty      3\n",
       "Sales               2\n",
       "?                   1\n",
       "Craft-repair        1\n",
       "Adm-clerical        1\n",
       "Name: occupation, dtype: int64"
      ]
     },
     "execution_count": 38,
     "metadata": {},
     "output_type": "execute_result"
    }
   ],
   "source": [
    "# Ocupación más popular de las personas que ganan >50k en Japon\n",
    "\n",
    "japan = df[df['native-country'] == 'Japan']\n",
    "japan_over50k = japan[japan['salary'] == '>50K']\n",
    "occupation_counts = japan_over50k['occupation'].value_counts()\n",
    "\n",
    "occupation_counts"
   ]
  },
  {
   "cell_type": "code",
   "execution_count": 41,
   "metadata": {},
   "outputs": [
    {
     "data": {
      "text/plain": [
       "<matplotlib.axes._subplots.AxesSubplot at 0x24d60c03648>"
      ]
     },
     "execution_count": 41,
     "metadata": {},
     "output_type": "execute_result"
    },
    {
     "data": {
      "image/png": "[encoded data removed]",
      "text/plain": [
       "<Figure size 864x288 with 1 Axes>"
      ]
     },
     "metadata": {
      "needs_background": "light"
     },
     "output_type": "display_data"
    }
   ],
   "source": [
    "plt.figure(figsize=(12,4))\n",
    "sns.countplot(x= \"occupation\", \n",
    "              data=japan_over50k, \n",
    "              order = japan_over50k[\"occupation\"].value_counts().index)"
   ]
  },
  {
   "cell_type": "markdown",
   "metadata": {},
   "source": [
    "### Reporte con las variables calculadas"
   ]
  },
  {
   "cell_type": "code",
   "execution_count": 48,
   "metadata": {},
   "outputs": [
    {
     "name": "stdout",
     "output_type": "stream",
     "text": [
      "Número de cada raza: White                 27816\n",
      "Black                  3124\n",
      "Asian-Pac-Islander     1039\n",
      "Amer-Indian-Eskimo      311\n",
      "Other                   271\n",
      "Name: race, dtype: int64\n",
      "\n",
      "\n",
      "Edad promedio de los hombres: 39.4\n",
      "\n",
      "\n",
      "Porcentaje con Bachelors degrees: 16.4%\n",
      "\n",
      "\n",
      "Porcentaje con educacion superior que ganan >50K: 46.5%\n",
      "\n",
      "\n",
      "Porcentaje sin educacion superior que ganan >50K: 17.4%\n",
      "\n",
      "\n",
      "Tiempo de trabajo mínimo: 1 hours/week\n",
      "\n",
      "\n",
      "Porcentage de ingresos mas altos con horas mínimas: 10.0%\n",
      "\n",
      "\n",
      "País con mayor porcentage de personas con altos ingresos: Iran\n",
      "\n",
      "\n",
      "Porcentaje más alto de ricos: 41.9%\n",
      "\n",
      "\n",
      "Profesión promedio con mayores ingresos: Exec-managerial\n"
     ]
    }
   ],
   "source": [
    "print(\"Número de cada raza:\", race_count)\n",
    "print(\"\\n\")\n",
    "print(\"Edad promedio de los hombres:\", average_age_men)\n",
    "print(\"\\n\")\n",
    "print(f\"Porcentaje con Bachelors degrees: {percentage_bachelors}%\")\n",
    "print(\"\\n\")\n",
    "print(f\"Porcentaje con educacion superior que ganan >50K: {higher_education_salary}%\")\n",
    "print(\"\\n\")\n",
    "print(f\"Porcentaje sin educacion superior que ganan >50K: {lower_education_salary}%\")\n",
    "print(\"\\n\")\n",
    "print(f\"Tiempo de trabajo mínimo: {min_work_hours} hours/week\")\n",
    "print(\"\\n\")\n",
    "print(f\"Porcentage de ingresos mas altos con horas mínimas: {salary_percentage}%\")\n",
    "print(\"\\n\")\n",
    "print(\"País con mayor porcentage de personas con altos ingresos:\", highest_earning_country)\n",
    "print(\"\\n\")\n",
    "print(f\"Porcentaje más alto de ricos: {highest_earning_country_percentage}%\")\n",
    "print(\"\\n\")\n",
    "print(\"Profesión promedio con mayores ingresos:\", occupation_counts[occupation_counts.values == occupation_counts.max()].index[0])"
   ]
  },
  {
   "cell_type": "code",
   "execution_count": null,
   "metadata": {},
   "outputs": [],
   "source": []
  }
 ],
 "metadata": {
  "kernelspec": {
   "display_name": "Python 3",
   "language": "python",
   "name": "python3"
  },
  "language_info": {
   "codemirror_mode": {
    "name": "ipython",
    "version": 3
   },
   "file_extension": ".py",
   "mimetype": "text/x-python",
   "name": "python",
   "nbconvert_exporter": "python",
   "pygments_lexer": "ipython3",
   "version": "3.7.6"
  }
 },
 "nbformat": 4,
 "nbformat_minor": 4
}
